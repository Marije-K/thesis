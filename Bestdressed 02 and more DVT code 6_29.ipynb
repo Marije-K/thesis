{
 "cells": [
  {
   "cell_type": "code",
   "execution_count": 1,
   "metadata": {},
   "outputs": [
    {
     "name": "stdout",
     "output_type": "stream",
     "text": [
      "Populating the interactive namespace from numpy and matplotlib\n"
     ]
    }
   ],
   "source": [
    "from dvt.core import FrameInput\n",
    "from dvt.core import DataExtraction\n",
    "\n",
    "from dvt.pipeline.csv import VideoCsvPipeline\n",
    "\n",
    "#importing different annotators\n",
    "from dvt.annotate.diff import DiffAnnotator\n",
    "from dvt.core import DataExtraction, ImageInput\n",
    "from dvt.annotate.color import ColorHistogramAnnotator, DominantColorAnnotator\n",
    "\n",
    "%pylab inline\n",
    "\n",
    "import numpy as np\n",
    "import scipy as sp\n",
    "import pandas as pd\n",
    "import json\n",
    "\n",
    "import statsmodels.api as sm\n",
    "import statsmodels.formula.api as smf\n",
    "\n",
    "import matplotlib.pyplot as plt\n",
    "import matplotlib.patches as patches\n",
    "\n",
    "import os\n",
    "from os.path import join, basename"
   ]
  },
  {
   "cell_type": "code",
   "execution_count": 2,
   "metadata": {},
   "outputs": [],
   "source": [
    "fi = FrameInput(input_path=join(\"bestdressed videos\", \"Working at American Eagle _ Pay, Discount & My Experience-30Mz637WNnI.mp4\"))"
   ]
  },
  {
   "cell_type": "code",
   "execution_count": 3,
   "metadata": {},
   "outputs": [],
   "source": [
    "dextraction = DataExtraction(fi)"
   ]
  },
  {
   "cell_type": "code",
   "execution_count": 4,
   "metadata": {},
   "outputs": [],
   "source": [
    "dextraction.run_annotators([\n",
    "    DiffAnnotator(quantiles=[50])\n",
    "])"
   ]
  },
  {
   "cell_type": "code",
   "execution_count": 5,
   "metadata": {},
   "outputs": [],
   "source": [
    "dt = dextraction.get_data()"
   ]
  },
  {
   "cell_type": "code",
   "execution_count": 6,
   "metadata": {},
   "outputs": [],
   "source": [
    "from dvt.aggregate.cut import CutAggregator\n",
    "dextraction.run_aggregator(CutAggregator(cut_vals={'q50': 3}, min_len=10))"
   ]
  },
  {
   "cell_type": "code",
   "execution_count": 7,
   "metadata": {},
   "outputs": [
    {
     "data": {
      "text/plain": [
       "odict_keys(['meta', 'diff', 'cut'])"
      ]
     },
     "execution_count": 7,
     "metadata": {},
     "output_type": "execute_result"
    }
   ],
   "source": [
    "dt = dextraction.get_data()\n",
    "dt.keys()\n",
    "#collections.OrderedDict"
   ]
  },
  {
   "cell_type": "code",
   "execution_count": 8,
   "metadata": {},
   "outputs": [
    {
     "data": {
      "text/html": [
       "<div>\n",
       "<style scoped>\n",
       "    .dataframe tbody tr th:only-of-type {\n",
       "        vertical-align: middle;\n",
       "    }\n",
       "\n",
       "    .dataframe tbody tr th {\n",
       "        vertical-align: top;\n",
       "    }\n",
       "\n",
       "    .dataframe thead th {\n",
       "        text-align: right;\n",
       "    }\n",
       "</style>\n",
       "<table border=\"1\" class=\"dataframe\">\n",
       "  <thead>\n",
       "    <tr style=\"text-align: right;\">\n",
       "      <th></th>\n",
       "      <th>type</th>\n",
       "      <th>fps</th>\n",
       "      <th>frames</th>\n",
       "      <th>height</th>\n",
       "      <th>width</th>\n",
       "      <th>input_path</th>\n",
       "      <th>input_bname</th>\n",
       "      <th>input_filename</th>\n",
       "      <th>input_file_extension</th>\n",
       "    </tr>\n",
       "  </thead>\n",
       "  <tbody>\n",
       "    <tr>\n",
       "      <td>0</td>\n",
       "      <td>video</td>\n",
       "      <td>29.97003</td>\n",
       "      <td>17686</td>\n",
       "      <td>720</td>\n",
       "      <td>1280</td>\n",
       "      <td>C:\\Users\\Gebruiker\\Documents\\Digital Humanitie...</td>\n",
       "      <td>Working at American Eagle _ Pay, Discount &amp; My...</td>\n",
       "      <td>Working at American Eagle _ Pay, Discount &amp; My...</td>\n",
       "      <td>.mp4</td>\n",
       "    </tr>\n",
       "  </tbody>\n",
       "</table>\n",
       "</div>"
      ],
      "text/plain": [
       "    type       fps  frames  height  width  \\\n",
       "0  video  29.97003   17686     720   1280   \n",
       "\n",
       "                                          input_path  \\\n",
       "0  C:\\Users\\Gebruiker\\Documents\\Digital Humanitie...   \n",
       "\n",
       "                                         input_bname  \\\n",
       "0  Working at American Eagle _ Pay, Discount & My...   \n",
       "\n",
       "                                      input_filename input_file_extension  \n",
       "0  Working at American Eagle _ Pay, Discount & My...                 .mp4  "
      ]
     },
     "execution_count": 8,
     "metadata": {},
     "output_type": "execute_result"
    }
   ],
   "source": [
    "dt['meta']"
   ]
  },
  {
   "cell_type": "code",
   "execution_count": 9,
   "metadata": {},
   "outputs": [
    {
     "data": {
      "text/html": [
       "<div>\n",
       "<style scoped>\n",
       "    .dataframe tbody tr th:only-of-type {\n",
       "        vertical-align: middle;\n",
       "    }\n",
       "\n",
       "    .dataframe tbody tr th {\n",
       "        vertical-align: top;\n",
       "    }\n",
       "\n",
       "    .dataframe thead th {\n",
       "        text-align: right;\n",
       "    }\n",
       "</style>\n",
       "<table border=\"1\" class=\"dataframe\">\n",
       "  <thead>\n",
       "    <tr style=\"text-align: right;\">\n",
       "      <th></th>\n",
       "      <th>frame_start</th>\n",
       "      <th>frame_end</th>\n",
       "    </tr>\n",
       "  </thead>\n",
       "  <tbody>\n",
       "    <tr>\n",
       "      <td>0</td>\n",
       "      <td>0</td>\n",
       "      <td>563</td>\n",
       "    </tr>\n",
       "    <tr>\n",
       "      <td>1</td>\n",
       "      <td>564</td>\n",
       "      <td>916</td>\n",
       "    </tr>\n",
       "    <tr>\n",
       "      <td>2</td>\n",
       "      <td>917</td>\n",
       "      <td>1998</td>\n",
       "    </tr>\n",
       "    <tr>\n",
       "      <td>3</td>\n",
       "      <td>1999</td>\n",
       "      <td>2899</td>\n",
       "    </tr>\n",
       "    <tr>\n",
       "      <td>4</td>\n",
       "      <td>2900</td>\n",
       "      <td>3051</td>\n",
       "    </tr>\n",
       "    <tr>\n",
       "      <td>5</td>\n",
       "      <td>3052</td>\n",
       "      <td>3499</td>\n",
       "    </tr>\n",
       "    <tr>\n",
       "      <td>6</td>\n",
       "      <td>3500</td>\n",
       "      <td>4123</td>\n",
       "    </tr>\n",
       "    <tr>\n",
       "      <td>7</td>\n",
       "      <td>4124</td>\n",
       "      <td>4832</td>\n",
       "    </tr>\n",
       "    <tr>\n",
       "      <td>8</td>\n",
       "      <td>4833</td>\n",
       "      <td>6370</td>\n",
       "    </tr>\n",
       "    <tr>\n",
       "      <td>9</td>\n",
       "      <td>6371</td>\n",
       "      <td>6859</td>\n",
       "    </tr>\n",
       "    <tr>\n",
       "      <td>10</td>\n",
       "      <td>6860</td>\n",
       "      <td>8161</td>\n",
       "    </tr>\n",
       "    <tr>\n",
       "      <td>11</td>\n",
       "      <td>8162</td>\n",
       "      <td>9146</td>\n",
       "    </tr>\n",
       "    <tr>\n",
       "      <td>12</td>\n",
       "      <td>9147</td>\n",
       "      <td>9273</td>\n",
       "    </tr>\n",
       "    <tr>\n",
       "      <td>13</td>\n",
       "      <td>9274</td>\n",
       "      <td>10086</td>\n",
       "    </tr>\n",
       "    <tr>\n",
       "      <td>14</td>\n",
       "      <td>10087</td>\n",
       "      <td>10283</td>\n",
       "    </tr>\n",
       "    <tr>\n",
       "      <td>15</td>\n",
       "      <td>10284</td>\n",
       "      <td>11304</td>\n",
       "    </tr>\n",
       "    <tr>\n",
       "      <td>16</td>\n",
       "      <td>11305</td>\n",
       "      <td>11672</td>\n",
       "    </tr>\n",
       "    <tr>\n",
       "      <td>17</td>\n",
       "      <td>11673</td>\n",
       "      <td>11913</td>\n",
       "    </tr>\n",
       "    <tr>\n",
       "      <td>18</td>\n",
       "      <td>11914</td>\n",
       "      <td>13259</td>\n",
       "    </tr>\n",
       "    <tr>\n",
       "      <td>19</td>\n",
       "      <td>13260</td>\n",
       "      <td>13808</td>\n",
       "    </tr>\n",
       "    <tr>\n",
       "      <td>20</td>\n",
       "      <td>13809</td>\n",
       "      <td>15658</td>\n",
       "    </tr>\n",
       "    <tr>\n",
       "      <td>21</td>\n",
       "      <td>15659</td>\n",
       "      <td>16352</td>\n",
       "    </tr>\n",
       "    <tr>\n",
       "      <td>22</td>\n",
       "      <td>16353</td>\n",
       "      <td>16833</td>\n",
       "    </tr>\n",
       "    <tr>\n",
       "      <td>23</td>\n",
       "      <td>16834</td>\n",
       "      <td>17273</td>\n",
       "    </tr>\n",
       "    <tr>\n",
       "      <td>24</td>\n",
       "      <td>17274</td>\n",
       "      <td>17283</td>\n",
       "    </tr>\n",
       "    <tr>\n",
       "      <td>25</td>\n",
       "      <td>17284</td>\n",
       "      <td>17685</td>\n",
       "    </tr>\n",
       "    <tr>\n",
       "      <td>26</td>\n",
       "      <td>17686</td>\n",
       "      <td>17919</td>\n",
       "    </tr>\n",
       "  </tbody>\n",
       "</table>\n",
       "</div>"
      ],
      "text/plain": [
       "    frame_start  frame_end\n",
       "0             0        563\n",
       "1           564        916\n",
       "2           917       1998\n",
       "3          1999       2899\n",
       "4          2900       3051\n",
       "5          3052       3499\n",
       "6          3500       4123\n",
       "7          4124       4832\n",
       "8          4833       6370\n",
       "9          6371       6859\n",
       "10         6860       8161\n",
       "11         8162       9146\n",
       "12         9147       9273\n",
       "13         9274      10086\n",
       "14        10087      10283\n",
       "15        10284      11304\n",
       "16        11305      11672\n",
       "17        11673      11913\n",
       "18        11914      13259\n",
       "19        13260      13808\n",
       "20        13809      15658\n",
       "21        15659      16352\n",
       "22        16353      16833\n",
       "23        16834      17273\n",
       "24        17274      17283\n",
       "25        17284      17685\n",
       "26        17686      17919"
      ]
     },
     "execution_count": 9,
     "metadata": {},
     "output_type": "execute_result"
    }
   ],
   "source": [
    "dt['cut']"
   ]
  },
  {
   "cell_type": "code",
   "execution_count": 10,
   "metadata": {},
   "outputs": [],
   "source": [
    "video_name = dt['meta']['input_filename'].values\n",
    "total_frames = dt['meta']['frames'].values # this and the above are np array values which are shown\n",
    "number_shots = len(dt['cut'])"
   ]
  },
  {
   "cell_type": "code",
   "execution_count": 11,
   "metadata": {},
   "outputs": [],
   "source": [
    "# get video name and video frame as simple string objects and not np array\n",
    "video_name = video_name.tolist()\n",
    "video_name = \"\".join(video_name)"
   ]
  },
  {
   "cell_type": "code",
   "execution_count": 12,
   "metadata": {},
   "outputs": [],
   "source": [
    "total_frames = total_frames.tolist()\n",
    "total_frames = total_frames[0]"
   ]
  },
  {
   "cell_type": "code",
   "execution_count": 13,
   "metadata": {},
   "outputs": [],
   "source": [
    "#investigating the use of color across time and it's impact on viewer attraction\n",
    "\n",
    "def conf_int(vals, ndigits=1):\n",
    "    se = 1.96 * np.sqrt(np.var(vals) / len(vals))\n",
    "    mu = np.mean(vals)\n",
    "    return [round(mu - se, ndigits=ndigits), round(mu + se, ndigits=ndigits)]\n",
    "\n",
    "\n",
    "plt.rcParams[\"figure.figsize\"] = (8,8)"
   ]
  },
  {
   "cell_type": "code",
   "execution_count": 14,
   "metadata": {},
   "outputs": [],
   "source": [
    "img_paths = [join(\"Screenshots\", \"Working at American Eagle _ Pay, Discount & My Experience-30Mz637WNnI\", x) for x in os.listdir(join(\"Screenshots\", \"Working at American Eagle _ Pay, Discount & My Experience-30Mz637WNnI\"))]\n",
    "\n",
    "# accessing the VLC screenshots made per video"
   ]
  },
  {
   "cell_type": "code",
   "execution_count": 15,
   "metadata": {},
   "outputs": [
    {
     "data": {
      "image/png": "[encoded data removed]",
      "text/plain": [
       "<Figure size 576x576 with 1 Axes>"
      ]
     },
     "metadata": {
      "needs_background": "light"
     },
     "output_type": "display_data"
    }
   ],
   "source": [
    "#checking if the right file was accessed \n",
    "\n",
    "img = imread(img_paths[(20)]) #specified image index in specified image folder\n",
    "plt.imshow(img) #shows image with plot axes\n",
    "_=plt.axis(\"off\") #shows image without plot axes\n",
    "\n",
    "#not necessary for the rest of the processing code"
   ]
  },
  {
   "cell_type": "code",
   "execution_count": 16,
   "metadata": {},
   "outputs": [
    {
     "data": {
      "text/plain": [
       "dict_keys(['meta', 'colorhist', 'domcolor'])"
      ]
     },
     "execution_count": 16,
     "metadata": {},
     "output_type": "execute_result"
    }
   ],
   "source": [
    "input_obj = ImageInput(input_paths=img_paths)\n",
    "dextra = DataExtraction(input_obj)\n",
    "dextra.run_annotators([\n",
    "    ColorHistogramAnnotator(num_buckets=(16, 4, 8)),\n",
    "    DominantColorAnnotator()\n",
    "])\n",
    "\n",
    "#output contains metadata, information about the 5 dominant colors in each poster \n",
    "# as well as info about the specific hues, values and saturations\n",
    "\n",
    "dt = dextra.get_json()\n",
    "\n",
    "dt.keys() #output shows dictionary keys"
   ]
  },
  {
   "cell_type": "code",
   "execution_count": 17,
   "metadata": {},
   "outputs": [],
   "source": [
    "#aggregating information across the corpus\n",
    "#loading the fully annotated version of the corpus (in the notebook 4 this is in a json file already)\n",
    "\n",
    "# complex histogram which require some processing\n",
    "\n",
    "#counting the number of pixels that are dark, heavily saturated, red, and white\n",
    "#restructure the dominant color info to better integrate into a rectangular dataset\n",
    "\n",
    "paths = [basename(x['paths']) for x in dt['meta']]\n",
    "\n",
    "dark_count = np.zeros((len(dt['meta'])))\n",
    "saturated_count = np.zeros((len(dt['meta'])))\n",
    "red_count = np.zeros((len(dt['meta'])))\n",
    "white_count= np.zeros((len(dt['meta'])))\n",
    "for i, hist in enumerate(dt['colorhist']):\n",
    "    img_hist = np.array(hist['hsv']).reshape((16, 4, 8))\n",
    "    dark_count[i] = np.sum(img_hist[:,:,:3])\n",
    "    saturated_count[i] = np.sum(img_hist[:,3,4:])\n",
    "    red_count[i] = np.sum(img_hist[:2,2:,4:])\n",
    "    white_count[i] = np.sum(img_hist[:,0,4:])\n",
    "\n",
    "    \n",
    "dom_cols = []\n",
    "for i, dc in enumerate(dt['domcolor']):\n",
    "    dom_cols.append(dc['dominant_colors'])"
   ]
  },
  {
   "cell_type": "code",
   "execution_count": 18,
   "metadata": {},
   "outputs": [
    {
     "data": {
      "text/html": [
       "<div>\n",
       "<style scoped>\n",
       "    .dataframe tbody tr th:only-of-type {\n",
       "        vertical-align: middle;\n",
       "    }\n",
       "\n",
       "    .dataframe tbody tr th {\n",
       "        vertical-align: top;\n",
       "    }\n",
       "\n",
       "    .dataframe thead th {\n",
       "        text-align: right;\n",
       "    }\n",
       "</style>\n",
       "<table border=\"1\" class=\"dataframe\">\n",
       "  <thead>\n",
       "    <tr style=\"text-align: right;\">\n",
       "      <th></th>\n",
       "      <th>img</th>\n",
       "      <th>dark_perc</th>\n",
       "      <th>saturated_perc</th>\n",
       "      <th>red_perc</th>\n",
       "      <th>white_perc</th>\n",
       "      <th>dom_cols</th>\n",
       "    </tr>\n",
       "  </thead>\n",
       "  <tbody>\n",
       "    <tr>\n",
       "      <td>0</td>\n",
       "      <td>scene00001.png</td>\n",
       "      <td>95.133418</td>\n",
       "      <td>122.473064</td>\n",
       "      <td>75.439394</td>\n",
       "      <td>14.670455</td>\n",
       "      <td>[#1b150d, #774f2e, #b79d7e, #b9921a, #e9d04a]</td>\n",
       "    </tr>\n",
       "    <tr>\n",
       "      <td>1</td>\n",
       "      <td>scene00061.png</td>\n",
       "      <td>88.062290</td>\n",
       "      <td>122.851431</td>\n",
       "      <td>76.190236</td>\n",
       "      <td>15.158249</td>\n",
       "      <td>[#b89b7d, #ba911a, #e9d04a, #764e2d, #1c140d]</td>\n",
       "    </tr>\n",
       "    <tr>\n",
       "      <td>2</td>\n",
       "      <td>scene00121.png</td>\n",
       "      <td>93.861111</td>\n",
       "      <td>122.706229</td>\n",
       "      <td>73.489057</td>\n",
       "      <td>16.653199</td>\n",
       "      <td>[#b79b7e, #e9d04a, #ba911a, #754e2f, #1c150f]</td>\n",
       "    </tr>\n",
       "    <tr>\n",
       "      <td>3</td>\n",
       "      <td>scene00181.png</td>\n",
       "      <td>90.955808</td>\n",
       "      <td>120.432660</td>\n",
       "      <td>78.600589</td>\n",
       "      <td>12.986111</td>\n",
       "      <td>[#1b150d, #b9921a, #794f2f, #ba9d7f, #e9d04a]</td>\n",
       "    </tr>\n",
       "    <tr>\n",
       "      <td>4</td>\n",
       "      <td>scene00241.png</td>\n",
       "      <td>86.744108</td>\n",
       "      <td>121.276094</td>\n",
       "      <td>71.761785</td>\n",
       "      <td>15.321970</td>\n",
       "      <td>[#b89c7f, #b9921a, #794f2f, #1d150f, #e9d04a]</td>\n",
       "    </tr>\n",
       "    <tr>\n",
       "      <td>...</td>\n",
       "      <td>...</td>\n",
       "      <td>...</td>\n",
       "      <td>...</td>\n",
       "      <td>...</td>\n",
       "      <td>...</td>\n",
       "      <td>...</td>\n",
       "    </tr>\n",
       "    <tr>\n",
       "      <td>287</td>\n",
       "      <td>scene17221.png</td>\n",
       "      <td>259.673401</td>\n",
       "      <td>47.451599</td>\n",
       "      <td>48.576599</td>\n",
       "      <td>40.875842</td>\n",
       "      <td>[#0c0f0e, #34383f, #8d665a, #b78c2b, #bcbac0]</td>\n",
       "    </tr>\n",
       "    <tr>\n",
       "      <td>288</td>\n",
       "      <td>scene17281.png</td>\n",
       "      <td>254.329545</td>\n",
       "      <td>52.983586</td>\n",
       "      <td>48.686027</td>\n",
       "      <td>44.374158</td>\n",
       "      <td>[#b38b26, #0a0d0d, #2b2e31, #805f57, #b9b6bb]</td>\n",
       "    </tr>\n",
       "    <tr>\n",
       "      <td>289</td>\n",
       "      <td>scene17341.png</td>\n",
       "      <td>268.835438</td>\n",
       "      <td>30.691077</td>\n",
       "      <td>34.059343</td>\n",
       "      <td>38.693603</td>\n",
       "      <td>[#313336, #8c675a, #c0bbbd, #0c0f0e, #c59e36]</td>\n",
       "    </tr>\n",
       "    <tr>\n",
       "      <td>290</td>\n",
       "      <td>scene17401.png</td>\n",
       "      <td>255.489899</td>\n",
       "      <td>53.044192</td>\n",
       "      <td>45.354377</td>\n",
       "      <td>43.009259</td>\n",
       "      <td>[#0a0d0d, #84635b, #2d3133, #b48b23, #babac0]</td>\n",
       "    </tr>\n",
       "    <tr>\n",
       "      <td>291</td>\n",
       "      <td>scene17461.png</td>\n",
       "      <td>255.361532</td>\n",
       "      <td>49.807239</td>\n",
       "      <td>40.573232</td>\n",
       "      <td>42.093434</td>\n",
       "      <td>[#bdbcc0, #0a0d0d, #b89028, #2f3031, #856359]</td>\n",
       "    </tr>\n",
       "  </tbody>\n",
       "</table>\n",
       "<p>292 rows × 6 columns</p>\n",
       "</div>"
      ],
      "text/plain": [
       "                img   dark_perc  saturated_perc   red_perc  white_perc  \\\n",
       "0    scene00001.png   95.133418      122.473064  75.439394   14.670455   \n",
       "1    scene00061.png   88.062290      122.851431  76.190236   15.158249   \n",
       "2    scene00121.png   93.861111      122.706229  73.489057   16.653199   \n",
       "3    scene00181.png   90.955808      120.432660  78.600589   12.986111   \n",
       "4    scene00241.png   86.744108      121.276094  71.761785   15.321970   \n",
       "..              ...         ...             ...        ...         ...   \n",
       "287  scene17221.png  259.673401       47.451599  48.576599   40.875842   \n",
       "288  scene17281.png  254.329545       52.983586  48.686027   44.374158   \n",
       "289  scene17341.png  268.835438       30.691077  34.059343   38.693603   \n",
       "290  scene17401.png  255.489899       53.044192  45.354377   43.009259   \n",
       "291  scene17461.png  255.361532       49.807239  40.573232   42.093434   \n",
       "\n",
       "                                          dom_cols  \n",
       "0    [#1b150d, #774f2e, #b79d7e, #b9921a, #e9d04a]  \n",
       "1    [#b89b7d, #ba911a, #e9d04a, #764e2d, #1c140d]  \n",
       "2    [#b79b7e, #e9d04a, #ba911a, #754e2f, #1c150f]  \n",
       "3    [#1b150d, #b9921a, #794f2f, #ba9d7f, #e9d04a]  \n",
       "4    [#b89c7f, #b9921a, #794f2f, #1d150f, #e9d04a]  \n",
       "..                                             ...  \n",
       "287  [#0c0f0e, #34383f, #8d665a, #b78c2b, #bcbac0]  \n",
       "288  [#b38b26, #0a0d0d, #2b2e31, #805f57, #b9b6bb]  \n",
       "289  [#313336, #8c675a, #c0bbbd, #0c0f0e, #c59e36]  \n",
       "290  [#0a0d0d, #84635b, #2d3133, #b48b23, #babac0]  \n",
       "291  [#bdbcc0, #0a0d0d, #b89028, #2f3031, #856359]  \n",
       "\n",
       "[292 rows x 6 columns]"
      ]
     },
     "execution_count": 18,
     "metadata": {},
     "output_type": "execute_result"
    }
   ],
   "source": [
    "# converting values into a structured table\n",
    "\n",
    "color_info = pd.DataFrame({\n",
    "    'img': paths,\n",
    "    'dark_perc': dark_count / (594 * 4),\n",
    "    'saturated_perc': saturated_count / (594 * 4), \n",
    "    'red_perc': red_count / (594 * 4),\n",
    "    'white_perc': white_count/ (594 * 4),\n",
    "    'dom_cols': dom_cols\n",
    "})\n",
    "color_info"
   ]
  },
  {
   "cell_type": "code",
   "execution_count": 19,
   "metadata": {},
   "outputs": [],
   "source": [
    "dark_perc_std = color_info['dark_perc'].std()\n",
    "dark_perc_mean = color_info['dark_perc'].mean()\n",
    "\n",
    "saturated_perc_std = color_info['saturated_perc'].std()\n",
    "saturated_perc_mean = color_info['saturated_perc'].mean()\n",
    "\n",
    "red_perc_std = color_info['red_perc'].std()\n",
    "red_perc_mean = color_info['red_perc'].mean()\n",
    "\n",
    "white_perc_std = color_info['white_perc'].std()\n",
    "white_perc_mean = color_info['white_perc'].mean()"
   ]
  },
  {
   "cell_type": "code",
   "execution_count": 20,
   "metadata": {},
   "outputs": [],
   "source": [
    "#accessing json file for additional meta-data --> likes, dislikes, shares, views, date posted "
   ]
  },
  {
   "cell_type": "code",
   "execution_count": 21,
   "metadata": {},
   "outputs": [],
   "source": [
    "import json\n",
    "import glob"
   ]
  },
  {
   "cell_type": "code",
   "execution_count": 22,
   "metadata": {},
   "outputs": [],
   "source": [
    "with open (\"C:/Users/Gebruiker/Documents/Digital Humanities/block 3/Thesis Lab/scraping YouTube data/metadata/Working at American Eagle _ Pay, Discount & My Experience-30Mz637WNnI.info.json\") as json_file:\n",
    "    metadata = json.load(json_file)"
   ]
  },
  {
   "cell_type": "code",
   "execution_count": 23,
   "metadata": {},
   "outputs": [],
   "source": [
    "category = metadata['categories']\n",
    "categories = \"\".join(category)\n",
    "tags = metadata['tags']\n",
    "view_count = metadata['view_count']\n",
    "like_count = metadata['like_count']\n",
    "dislike_count = metadata['dislike_count']\n",
    "upload_date = metadata['upload_date']"
   ]
  },
  {
   "cell_type": "code",
   "execution_count": 24,
   "metadata": {},
   "outputs": [],
   "source": [
    "tags_str = \", \".join(tags)"
   ]
  },
  {
   "cell_type": "code",
   "execution_count": 25,
   "metadata": {},
   "outputs": [
    {
     "name": "stdout",
     "output_type": "stream",
     "text": [
      "working at american eagle, american eagle job, american eagle orientation, american eagle pay, american eagle employee discount, how to get a job at american eagle, how to get hired at american eagle, my experience working at american eagle, my job at american eagle, working for american eagle, working retail, retail job experience, aeo job, working at ae, how much does american eagle pay, job at american eagle, american eagle job experience, american eagle experience\n"
     ]
    }
   ],
   "source": [
    "print(tags_str)"
   ]
  },
  {
   "cell_type": "markdown",
   "metadata": {},
   "source": [
    "# Saving the files"
   ]
  },
  {
   "cell_type": "code",
   "execution_count": 26,
   "metadata": {},
   "outputs": [],
   "source": [
    "# save pd to csv file for general info specific to this video\n",
    "color_info.to_csv(\"C:/Users/Gebruiker/Documents/Digital Humanities/Thesis/dvt bestdressed csv/Working at American Eagle _ Pay, Discount & My Experience-30Mz637WNnI.csv\")"
   ]
  },
  {
   "cell_type": "code",
   "execution_count": 27,
   "metadata": {},
   "outputs": [],
   "source": [
    "#open csv file and make into pd df\n",
    "# insert new data as row in pd df\n",
    "# save csv again\n",
    "import csv"
   ]
  },
  {
   "cell_type": "code",
   "execution_count": 28,
   "metadata": {},
   "outputs": [],
   "source": [
    "field = [video_name, upload_date, categories, view_count, like_count, dislike_count, total_frames, number_shots, dark_perc_std, dark_perc_mean, saturated_perc_std, saturated_perc_mean, red_perc_std, red_perc_mean, white_perc_std, white_perc_mean, tags_str]"
   ]
  },
  {
   "cell_type": "code",
   "execution_count": 29,
   "metadata": {},
   "outputs": [],
   "source": [
    "with open('data for video analysis.csv', 'a') as infile:\n",
    "    infileWriter=csv.writer(infile)\n",
    "    infileWriter.writerow(field)"
   ]
  },
  {
   "cell_type": "code",
   "execution_count": null,
   "metadata": {},
   "outputs": [],
   "source": []
  },
  {
   "cell_type": "code",
   "execution_count": null,
   "metadata": {},
   "outputs": [],
   "source": []
  },
  {
   "cell_type": "code",
   "execution_count": null,
   "metadata": {},
   "outputs": [],
   "source": []
  },
  {
   "cell_type": "code",
   "execution_count": null,
   "metadata": {},
   "outputs": [],
   "source": []
  },
  {
   "cell_type": "code",
   "execution_count": null,
   "metadata": {},
   "outputs": [],
   "source": []
  }
 ],
 "metadata": {
  "kernelspec": {
   "display_name": "Python 3",
   "language": "python",
   "name": "python3"
  },
  "language_info": {
   "codemirror_mode": {
    "name": "ipython",
    "version": 3
   },
   "file_extension": ".py",
   "mimetype": "text/x-python",
   "name": "python",
   "nbconvert_exporter": "python",
   "pygments_lexer": "ipython3",
   "version": "3.7.4"
  }
 },
 "nbformat": 4,
 "nbformat_minor": 2
}
